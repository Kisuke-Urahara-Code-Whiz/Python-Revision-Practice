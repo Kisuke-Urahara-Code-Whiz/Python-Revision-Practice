{
 "cells": [
  {
   "cell_type": "code",
   "execution_count": 2,
   "id": "909164c4-5389-427c-ad70-bd20110aaec2",
   "metadata": {},
   "outputs": [],
   "source": [
    "#TURNS ALL ELEMENTS IN ARRAY TO NUM\n",
    "def change(choice,arr):\n",
    "    for i in range(len(arr)):\n",
    "        if choice==0:\n",
    "            arr[i]=int(arr[i])\n",
    "        else:\n",
    "            arr[i]=str(arr[i])\n",
    "    return arr"
   ]
  },
  {
   "cell_type": "code",
   "execution_count": 6,
   "id": "09b81b7a-0b61-4645-a539-60749e21607f",
   "metadata": {},
   "outputs": [
    {
     "name": "stdin",
     "output_type": "stream",
     "text": [
      "Enter the elements of array -  1,3,5,7,9\n"
     ]
    },
    {
     "name": "stdout",
     "output_type": "stream",
     "text": [
      "Original Array: ['1', '3', '5', '7', '9']\n",
      "Reversed Array: ['9', '7', '5', '3', '1']\n"
     ]
    }
   ],
   "source": [
    "#REVERSE AN ARRAY\n",
    "arr = (input(\"Enter the elements of array - \")).split(\",\")\n",
    "print(f\"Original Array: {arr}\")\n",
    "arr.reverse()\n",
    "print(f\"Reversed Array: {arr}\")"
   ]
  },
  {
   "cell_type": "code",
   "execution_count": 23,
   "id": "e3c4138b-99ec-4e67-a74f-a3f88477e07a",
   "metadata": {},
   "outputs": [
    {
     "name": "stdin",
     "output_type": "stream",
     "text": [
      "Enter the elements of array -  1,2,3,4,5,6,7,8,9\n",
      "Enter the number of rotations -  4\n"
     ]
    },
    {
     "name": "stdout",
     "output_type": "stream",
     "text": [
      "Original Array : ['1', '2', '3', '4', '5', '6', '7', '8', '9']\n",
      "Array after Rotation No. 1 : ['2', '3', '4', '5', '6', '7', '8', '9', '1']\n",
      "Array after Rotation No. 2 : ['3', '4', '5', '6', '7', '8', '9', '1', '2']\n",
      "Array after Rotation No. 3 : ['4', '5', '6', '7', '8', '9', '1', '2', '3']\n",
      "Array after Rotation No. 4 : ['5', '6', '7', '8', '9', '1', '2', '3', '4']\n"
     ]
    }
   ],
   "source": [
    "#ROTATE AN ARRAY\n",
    "arr = (input(\"Enter the elements of array - \")).split(\",\")\n",
    "rot = int(input(\"Enter the number of rotations - \"))\n",
    "print(f\"Original Array : {arr}\")\n",
    "for i in range(rot):\n",
    "    arr.append(arr[0])\n",
    "    arr.pop(0)\n",
    "    print(f\"Array after Rotation No. {i+1} : {arr}\")\n",
    "        "
   ]
  },
  {
   "cell_type": "code",
   "execution_count": 10,
   "id": "b62b97c3-9d1d-4571-8f1b-fc2a177d3637",
   "metadata": {},
   "outputs": [
    {
     "name": "stdin",
     "output_type": "stream",
     "text": [
      "Enter the elements of array -   2, 1, 5, 5, 5, 5, 6, 6, 6, 6, 6\n"
     ]
    },
    {
     "name": "stdout",
     "output_type": "stream",
     "text": [
      "Original array : [' 2', ' 1', ' 5', ' 5', ' 5', ' 5', ' 6', ' 6', ' 6', ' 6', ' 6']\n",
      "Elements/Element occurences more than 1/3rd times the length of array : ['5', '6']\n"
     ]
    }
   ],
   "source": [
    "#MAJORITY ELEMENT(1/3)\n",
    "arr = (input(\"Enter the elements of array - \")).split(\",\")\n",
    "arr1 = []\n",
    "print(f\"Original array : {arr}\")\n",
    "l = len(arr)\n",
    "for i in range(l):\n",
    "    if (arr[i] not in arr1):\n",
    "        if ((arr.count(arr[i]))>(l/3)):\n",
    "            arr1.append(arr[i])\n",
    "arr1 = change(0,arr1)\n",
    "arr1.sort()\n",
    "arr1 = change(2,arr1)\n",
    "print(f\"Elements/Element occurences more than 1/3rd times the length of array : {arr1}\")\n",
    "\n"
   ]
  },
  {
   "cell_type": "code",
   "execution_count": 14,
   "id": "8d7a78e0-7099-4aa7-912e-dcc090daeac4",
   "metadata": {},
   "outputs": [
    {
     "name": "stdin",
     "output_type": "stream",
     "text": [
      "Enter the elements of array -  2, -3, 4, 1, 1, 7\n"
     ]
    },
    {
     "name": "stdout",
     "output_type": "stream",
     "text": [
      "Array : [2, -3, 4, 1, 1, 7]\n",
      "Smallest Positive Missing Number is : 3\n"
     ]
    }
   ],
   "source": [
    "#SMALLEST POSITIVE MISSING NUMBER\n",
    "arr = (input(\"Enter the elements of array - \")).split(\",\")\n",
    "arr = change(0,arr)\n",
    "arr1 = []\n",
    "print(f\"Array : {arr}\")\n",
    "for i in arr:\n",
    "    if(i>0):\n",
    "        arr1.append(i)\n",
    "if(arr1):\n",
    "    arr1.sort()\n",
    "    ans = 0\n",
    "    for i in range(arr[0],arr[len(arr)-1]):\n",
    "        if i not in arr1:\n",
    "            ans = i\n",
    "            break\n",
    "    print(f\"Smallest Positive Missing Number is : {ans}\")\n",
    "else:\n",
    "    print(f\"Smallest Positive Missing Number is : 1\")"
   ]
  },
  {
   "cell_type": "code",
   "execution_count": 16,
   "id": "69f28e77-3740-43d6-983b-6820249c407c",
   "metadata": {},
   "outputs": [
    {
     "name": "stdin",
     "output_type": "stream",
     "text": [
      "Enter the elements of array -  -8, 0, -1, -4, -3\n"
     ]
    },
    {
     "name": "stdout",
     "output_type": "stream",
     "text": [
      "Array : [-8, 0, -1, -4, -3]\n",
      "Smallest Positive Missing Number is : 1\n"
     ]
    }
   ],
   "source": [
    "#SMALLEST POSITIVE MISSING NUMBER\n",
    "arr = (input(\"Enter the elements of array - \")).split(\",\")\n",
    "arr = change(0,arr)\n",
    "arr1 = []\n",
    "print(f\"Array : {arr}\")\n",
    "for i in arr:\n",
    "    if(i>0):\n",
    "        arr1.append(i)\n",
    "if(arr1):\n",
    "    arr1.sort()\n",
    "    ans = 0\n",
    "    for i in range(arr[0],arr[len(arr)-1]):\n",
    "        if i not in arr1:\n",
    "            ans = i\n",
    "            break\n",
    "    print(f\"Smallest Positive Missing Number is : {ans}\")\n",
    "else:\n",
    "    print(f\"Smallest Positive Missing Number is : 1\")"
   ]
  },
  {
   "cell_type": "code",
   "execution_count": 4,
   "id": "ab799a83-89a3-4c69-9e5a-37a2a38e0654",
   "metadata": {},
   "outputs": [],
   "source": [
    "def custom_sum(arr):\n",
    "    s = 0\n",
    "    for i in arr:\n",
    "        s = s+i\n",
    "    return s\n"
   ]
  },
  {
   "cell_type": "code",
   "execution_count": 48,
   "id": "29bfdc97-5530-4b2c-b6ba-39b52b82377c",
   "metadata": {},
   "outputs": [],
   "source": [
    "def custom_prod(arr):\n",
    "    p = 1\n",
    "    for i in arr:\n",
    "        p = p*i\n",
    "    return p"
   ]
  },
  {
   "cell_type": "code",
   "execution_count": 62,
   "id": "f4f1bd02-a1b8-468a-b853-b4e18e4e0493",
   "metadata": {},
   "outputs": [
    {
     "name": "stdin",
     "output_type": "stream",
     "text": [
      "Enter the elements of array -  2, 3, -8, 7, -1, 2, 3\n"
     ]
    },
    {
     "name": "stdout",
     "output_type": "stream",
     "text": [
      "[2, 3, -8, 7, -1, 2, 3]\n",
      "Maximum sum subarray/'..s : [7, -1, 2, 3] and sum is 11\n"
     ]
    }
   ],
   "source": [
    "#KADANE'S ALGORITHM\n",
    "arr = (input(\"Enter the elements of array - \")).split(\",\")\n",
    "arr = change(0,arr)\n",
    "print(arr)\n",
    "def neg_check(arr):\n",
    "    for i in arr:\n",
    "        if i<0:\n",
    "            return True\n",
    "    return False\n",
    "if(arr):\n",
    "    if(neg_check(arr)):\n",
    "        a = arr.copy()\n",
    "        a.sort()\n",
    "        max_sum = a[0]\n",
    "        max_arr = []\n",
    "        index = 0\n",
    "        while(index!=len(arr)):\n",
    "            for i in range(index+1,len(arr)+1):\n",
    "                s = custom_sum(arr[index:i])\n",
    "                if s>max_sum:\n",
    "                    max_sum = s\n",
    "                    max_arr = arr[index:(i+1)]\n",
    "                elif s==max_sum:\n",
    "                    max_arr.append(arr[index:(i+1)])\n",
    "            index+=1\n",
    "        print(f\"Maximum sum subarray/'..s : {max_arr} and sum is {max_sum}\")\n",
    "                \n",
    "    else:\n",
    "        s = custom_sum(arr)\n",
    "        print(f\"Maximum sum subarray : {arr} and sum is {s}\")\n",
    "        \n",
    "    "
   ]
  },
  {
   "cell_type": "code",
   "execution_count": 64,
   "id": "65480608-eb5a-4c5e-b0e7-597e2fa9f7c8",
   "metadata": {},
   "outputs": [
    {
     "name": "stdin",
     "output_type": "stream",
     "text": [
      "Enter the elements of array -  -2, 6, -3, -10, 0, 2\n"
     ]
    },
    {
     "name": "stdout",
     "output_type": "stream",
     "text": [
      "[-2, 6, -3, -10, 0, 2]\n",
      "Maximum product subarray/'..s : [6, -3, -10] and prod is 180\n"
     ]
    }
   ],
   "source": [
    "#MAXIMUM PRODUCT SUBARRAY\n",
    "arr = (input(\"Enter the elements of array - \")).split(\",\")\n",
    "arr = change(0,arr)\n",
    "max_arr = []\n",
    "prod = 1\n",
    "c = 0\n",
    "index = 0\n",
    "print(arr)\n",
    "if(arr):\n",
    "    while(index!=len(arr)):\n",
    "            for i in range(index+1,len(arr)+1):\n",
    "                if c==0:\n",
    "                    prod = custom_prod(arr[index:i])\n",
    "                    c=1\n",
    "                else:\n",
    "                    p =  custom_prod(arr[index:i])\n",
    "                    if p>prod:\n",
    "                        prod = p\n",
    "                        max_arr = arr[index:i]\n",
    "                    elif s==max_sum:\n",
    "                        max_arr.append(arr[index:(i+1)])\n",
    "            index+=1\n",
    "print(f\"Maximum product subarray/'..s : {max_arr} and prod is {prod}\")\n",
    "                        \n",
    "                \n",
    "    \n",
    "    "
   ]
  },
  {
   "cell_type": "code",
   "execution_count": 29,
   "id": "d297130b-ba05-4f40-803a-d80d70e46a34",
   "metadata": {},
   "outputs": [
    {
     "name": "stdin",
     "output_type": "stream",
     "text": [
      "Enter the elements of array -  -1, 40, -14, 7, 6, 5, -4, -1\n"
     ]
    },
    {
     "name": "stdout",
     "output_type": "stream",
     "text": [
      "[-1, 40, -14, 7, 6, 5, -4, -1]\n",
      "Maximum circular sum subarray/'..s : [7, 6, 5, -4, -1, -1, 40] and sum is 52\n"
     ]
    }
   ],
   "source": [
    "#MAX CIRCULAR SUBARRAY SUM\n",
    "arr = (input(\"Enter the elements of array - \")).split(\",\")\n",
    "arr = change(0,arr)\n",
    "print(arr)\n",
    "def neg_check(arr):\n",
    "    for i in arr:\n",
    "        if i<0:\n",
    "            return True\n",
    "    return False\n",
    "if(arr):\n",
    "    if(neg_check(arr)):\n",
    "        a = arr.copy()\n",
    "        a.sort()\n",
    "        max_sum = a[0]\n",
    "        max_arr = []\n",
    "        index = 0\n",
    "        while index<len(arr):\n",
    "            e = index+1\n",
    "            arr1 = []\n",
    "            for i in range(len(arr)):\n",
    "                if e>len(arr):\n",
    "                    arr1 = arr[index:]+arr[0:e-len(arr)]\n",
    "                else :\n",
    "                    arr1 = arr[index:e]\n",
    "                s = custom_sum(arr1)\n",
    "                if s>max_sum:\n",
    "                    max_arr = arr1\n",
    "                    max_sum = s\n",
    "                elif s==max_sum:\n",
    "                    max_arr.append(arr1)\n",
    "                e+=1\n",
    "            index+=1\n",
    "        print(f\"Maximum circular sum subarray/'..s : {max_arr} and sum is {max_sum}\")\n",
    "         \n",
    "    else:\n",
    "        s = custom_sum(arr)\n",
    "        print(f\"Maximum circular sum subarray : {arr} and sum is {s}\")\n",
    "        "
   ]
  }
 ],
 "metadata": {
  "kernelspec": {
   "display_name": "Python 3 (ipykernel)",
   "language": "python",
   "name": "python3"
  },
  "language_info": {
   "codemirror_mode": {
    "name": "ipython",
    "version": 3
   },
   "file_extension": ".py",
   "mimetype": "text/x-python",
   "name": "python",
   "nbconvert_exporter": "python",
   "pygments_lexer": "ipython3",
   "version": "3.12.7"
  }
 },
 "nbformat": 4,
 "nbformat_minor": 5
}

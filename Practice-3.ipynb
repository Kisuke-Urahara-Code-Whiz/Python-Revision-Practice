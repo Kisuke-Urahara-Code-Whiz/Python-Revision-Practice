{
 "cells": [
  {
   "cell_type": "code",
   "execution_count": 2,
   "id": "909164c4-5389-427c-ad70-bd20110aaec2",
   "metadata": {},
   "outputs": [],
   "source": [
    "#TURNS ALL ELEMENTS IN ARRAY TO NUM\n",
    "def change(choice,arr):\n",
    "    for i in range(len(arr)):\n",
    "        if choice==0:\n",
    "            arr[i]=int(arr[i])\n",
    "        else:\n",
    "            arr[i]=str(arr[i])\n",
    "    return arr"
   ]
  },
  {
   "cell_type": "code",
   "execution_count": 6,
   "id": "09b81b7a-0b61-4645-a539-60749e21607f",
   "metadata": {},
   "outputs": [
    {
     "name": "stdin",
     "output_type": "stream",
     "text": [
      "Enter the elements of array -  1,3,5,7,9\n"
     ]
    },
    {
     "name": "stdout",
     "output_type": "stream",
     "text": [
      "Original Array: ['1', '3', '5', '7', '9']\n",
      "Reversed Array: ['9', '7', '5', '3', '1']\n"
     ]
    }
   ],
   "source": [
    "#REVERSE AN ARRAY\n",
    "arr = (input(\"Enter the elements of array - \")).split(\",\")\n",
    "print(f\"Original Array: {arr}\")\n",
    "arr.reverse()\n",
    "print(f\"Reversed Array: {arr}\")"
   ]
  },
  {
   "cell_type": "code",
   "execution_count": 23,
   "id": "e3c4138b-99ec-4e67-a74f-a3f88477e07a",
   "metadata": {},
   "outputs": [
    {
     "name": "stdin",
     "output_type": "stream",
     "text": [
      "Enter the elements of array -  1,2,3,4,5,6,7,8,9\n",
      "Enter the number of rotations -  4\n"
     ]
    },
    {
     "name": "stdout",
     "output_type": "stream",
     "text": [
      "Original Array : ['1', '2', '3', '4', '5', '6', '7', '8', '9']\n",
      "Array after Rotation No. 1 : ['2', '3', '4', '5', '6', '7', '8', '9', '1']\n",
      "Array after Rotation No. 2 : ['3', '4', '5', '6', '7', '8', '9', '1', '2']\n",
      "Array after Rotation No. 3 : ['4', '5', '6', '7', '8', '9', '1', '2', '3']\n",
      "Array after Rotation No. 4 : ['5', '6', '7', '8', '9', '1', '2', '3', '4']\n"
     ]
    }
   ],
   "source": [
    "#ROTATE AN ARRAY\n",
    "arr = (input(\"Enter the elements of array - \")).split(\",\")\n",
    "rot = int(input(\"Enter the number of rotations - \"))\n",
    "print(f\"Original Array : {arr}\")\n",
    "for i in range(rot):\n",
    "    arr.append(arr[0])\n",
    "    arr.pop(0)\n",
    "    print(f\"Array after Rotation No. {i+1} : {arr}\")\n",
    "        "
   ]
  },
  {
   "cell_type": "code",
   "execution_count": 8,
   "id": "b62b97c3-9d1d-4571-8f1b-fc2a177d3637",
   "metadata": {},
   "outputs": [
    {
     "name": "stdin",
     "output_type": "stream",
     "text": [
      "Enter the elements of array -  2, 1, 5, 5, 5, 5, 6, 6, 6, 6, 6\n"
     ]
    },
    {
     "name": "stdout",
     "output_type": "stream",
     "text": [
      "Original array : ['2', ' 1', ' 5', ' 5', ' 5', ' 5', ' 6', ' 6', ' 6', ' 6', ' 6']\n",
      "Elements/Element occurences more than 1/3rd times the length of array : [' 5', ' 6']\n"
     ]
    }
   ],
   "source": [
    "#MAJORITY ELEMENT(1/3)\n",
    "arr = (input(\"Enter the elements of array - \")).split(\",\")\n",
    "arr1 = []\n",
    "print(f\"Original array : {arr}\")\n",
    "l = len(arr)\n",
    "for i in range(l):\n",
    "    if (arr[i] not in arr1):\n",
    "        if ((arr.count(arr[i]))>(l/3)):\n",
    "            arr1.append(arr[i])\n",
    "arr1 = change(1,arr1)\n",
    "arr1.sort()\n",
    "arr1 = change(2,arr1)\n",
    "print(f\"Elements/Element occurences more than 1/3rd times the length of array : {arr1}\")\n",
    "\n"
   ]
  },
  {
   "cell_type": "code",
   "execution_count": null,
   "id": "8d7a78e0-7099-4aa7-912e-dcc090daeac4",
   "metadata": {},
   "outputs": [],
   "source": []
  }
 ],
 "metadata": {
  "kernelspec": {
   "display_name": "Python 3 (ipykernel)",
   "language": "python",
   "name": "python3"
  },
  "language_info": {
   "codemirror_mode": {
    "name": "ipython",
    "version": 3
   },
   "file_extension": ".py",
   "mimetype": "text/x-python",
   "name": "python",
   "nbconvert_exporter": "python",
   "pygments_lexer": "ipython3",
   "version": "3.12.7"
  }
 },
 "nbformat": 4,
 "nbformat_minor": 5
}

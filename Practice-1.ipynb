{
 "cells": [
  {
   "cell_type": "code",
   "execution_count": 1,
   "id": "8afd0589-26e7-4452-98a5-3a44b1a5db34",
   "metadata": {},
   "outputs": [
    {
     "name": "stdout",
     "output_type": "stream",
     "text": [
      "Hello World\n"
     ]
    }
   ],
   "source": [
    "#PRINT HELLO WORLD\n",
    "print(\"Hello World\")"
   ]
  },
  {
   "cell_type": "code",
   "execution_count": 38,
   "id": "a7692b43-7462-4699-8885-f2572d730738",
   "metadata": {},
   "outputs": [
    {
     "name": "stdin",
     "output_type": "stream",
     "text": [
      "Enter the elements in the array:  11 23 45 67 34 56 98 32 99\n"
     ]
    },
    {
     "name": "stdout",
     "output_type": "stream",
     "text": [
      "\n",
      "Original array: ['11', '23', '45', '67', '34', '56', '98', '32', '99'] \n",
      "\n",
      "Reversed array: ['99', '32', '98', '56', '34', '67', '45', '23', '11'] \n",
      "\n",
      "Sum of the odd positioned numbers is - 287 \n",
      "\n",
      "Sum of the even positioned numbers is - 178 \n",
      "\n"
     ]
    }
   ],
   "source": [
    "#REVERSE AND ARRAY AND PRINT THE SUM AT ODD AND EVEN PLACES\n",
    "n = input(\"Enter the elements in the array: \")\n",
    "arr = n.split(\" \")\n",
    "print(f\"\\nOriginal array: {arr} \\n\")\n",
    "arr.reverse()\n",
    "print(f\"Reversed array: {arr} \\n\")\n",
    "odd = 0\n",
    "even = 0\n",
    "counter = 0\n",
    "for i in arr:\n",
    "    i=int(i)\n",
    "    if(counter%2==0):\n",
    "        odd = odd+i;\n",
    "    else:\n",
    "        even = even+i;\n",
    "    counter+=1;\n",
    "print(f\"Sum of the odd positioned numbers is - {odd} \\n\")\n",
    "print(f\"Sum of the even positioned numbers is - {even} \\n\")\n"
   ]
  },
  {
   "cell_type": "code",
   "execution_count": 46,
   "id": "c2f7e82e-033e-44bb-ab10-150dc792f668",
   "metadata": {},
   "outputs": [
    {
     "name": "stdout",
     "output_type": "stream",
     "text": [
      "* * * \n",
      "* * * \n",
      "* * * \n"
     ]
    }
   ],
   "source": [
    "for i in range(3):\n",
    "    for j in range(3):\n",
    "        print(\"*\",end=\" \")\n",
    "    print()"
   ]
  },
  {
   "cell_type": "code",
   "execution_count": 52,
   "id": "77822530-e041-4c03-b97c-772303ddaf26",
   "metadata": {},
   "outputs": [
    {
     "name": "stdout",
     "output_type": "stream",
     "text": [
      "* \n",
      "* * \n",
      "* * * \n"
     ]
    }
   ],
   "source": [
    "for i in range(1,4):\n",
    "    for j in range(i):\n",
    "        print(\"*\",end=\" \")\n",
    "    print()"
   ]
  },
  {
   "cell_type": "code",
   "execution_count": 58,
   "id": "d8d947fb-c510-4460-ad44-168c1ff27905",
   "metadata": {},
   "outputs": [
    {
     "name": "stdout",
     "output_type": "stream",
     "text": [
      "1 \n",
      "1 2 \n",
      "1 2 3 \n"
     ]
    }
   ],
   "source": [
    "for i in range(1,4):\n",
    "    for j in range(1,i+1):\n",
    "        print(j,end=\" \")\n",
    "    print()"
   ]
  },
  {
   "cell_type": "code",
   "execution_count": 60,
   "id": "43036e47-caa9-4a6c-95ea-2908dbe2bfac",
   "metadata": {},
   "outputs": [
    {
     "name": "stdout",
     "output_type": "stream",
     "text": [
      "1 \n",
      "2 2 \n",
      "3 3 3 \n"
     ]
    }
   ],
   "source": [
    "for i in range(1,4):\n",
    "    for j in range(1,i+1):\n",
    "        print(i,end=\" \")\n",
    "    print()"
   ]
  },
  {
   "cell_type": "code",
   "execution_count": 64,
   "id": "e1aeb5dd-56f6-4ea4-84dc-38af66f8f1ac",
   "metadata": {},
   "outputs": [
    {
     "name": "stdout",
     "output_type": "stream",
     "text": [
      "* * * \n",
      "* * \n",
      "* \n"
     ]
    }
   ],
   "source": [
    "for i in range(1,4):\n",
    "    for j in range(3,i-1,-1):\n",
    "        print(\"*\",end=\" \")\n",
    "    print()"
   ]
  },
  {
   "cell_type": "code",
   "execution_count": 70,
   "id": "b79e0985-9519-4ff9-bef8-f70c98543f4f",
   "metadata": {},
   "outputs": [
    {
     "name": "stdout",
     "output_type": "stream",
     "text": [
      "1 2 3 \n",
      "1 2 \n",
      "1 \n"
     ]
    }
   ],
   "source": [
    "for i in range(1,4):\n",
    "    a=1\n",
    "    for j in range(3,i-1,-1):\n",
    "        print(a,end=\" \")\n",
    "        a=a+1\n",
    "    print()"
   ]
  },
  {
   "cell_type": "code",
   "execution_count": 90,
   "id": "ae96f877-0249-4f5b-aa2e-03d338eddf89",
   "metadata": {},
   "outputs": [
    {
     "name": "stdout",
     "output_type": "stream",
     "text": [
      "    *     \n",
      "  * * *   \n",
      "* * * * * \n"
     ]
    }
   ],
   "source": [
    "from math import floor\n",
    "for i in range(1,6,2):\n",
    "    for j in range(1,floor((5-i)/2)+1):\n",
    "        print(\" \",end=\" \")\n",
    "    for k in range(1,i+1):\n",
    "        print(\"*\",end=\" \")\n",
    "    for l in range(1,floor((5-i)/2)+1):\n",
    "        print(\" \",end=\" \")\n",
    "    print()\n",
    "        \n",
    "        "
   ]
  },
  {
   "cell_type": "code",
   "execution_count": 94,
   "id": "14268f88-4700-436a-928b-1cd99efdaea5",
   "metadata": {},
   "outputs": [
    {
     "name": "stdout",
     "output_type": "stream",
     "text": [
      "    *     \n",
      "  * * *   \n",
      "* * * * * \n",
      "* * * * * \n",
      "  * * *   \n",
      "    *     \n"
     ]
    }
   ],
   "source": [
    "from math import floor\n",
    "for i in range(1,6,2):\n",
    "    for j in range(1,floor((5-i)/2)+1):\n",
    "        print(\" \",end=\" \")\n",
    "    for k in range(1,i+1):\n",
    "        print(\"*\",end=\" \")\n",
    "    for l in range(1,floor((5-i)/2)+1):\n",
    "        print(\" \",end=\" \")\n",
    "    print()\n",
    "\n",
    "for i in range(5,0,-2):\n",
    "    for j in range(floor((5-i)/2),0,-1):\n",
    "        print(\" \",end=\" \")\n",
    "    for k in range(0,i):\n",
    "        print(\"*\",end=\" \")\n",
    "    for l in range(floor((5-i)/2),0,-1):\n",
    "        print(\" \",end=\" \")\n",
    "    print()"
   ]
  },
  {
   "cell_type": "code",
   "execution_count": 96,
   "id": "5cd69145-fddb-4fd3-b669-879487501d59",
   "metadata": {},
   "outputs": [
    {
     "name": "stdout",
     "output_type": "stream",
     "text": [
      "* * * * * \n",
      "    * * * \n",
      "        * \n"
     ]
    }
   ],
   "source": [
    "from math import floor\n",
    "for i in range(1,6,2):\n",
    "    for j in range(1,i):\n",
    "        print(\" \",end=\" \")\n",
    "    for k in range(5,i-1,-1):\n",
    "        print(\"*\",end=\" \")\n",
    "    print()"
   ]
  },
  {
   "cell_type": "code",
   "execution_count": null,
   "id": "754c0e6b-e5ed-4f62-9518-ac164371444e",
   "metadata": {},
   "outputs": [],
   "source": []
  }
 ],
 "metadata": {
  "kernelspec": {
   "display_name": "Python 3 (ipykernel)",
   "language": "python",
   "name": "python3"
  },
  "language_info": {
   "codemirror_mode": {
    "name": "ipython",
    "version": 3
   },
   "file_extension": ".py",
   "mimetype": "text/x-python",
   "name": "python",
   "nbconvert_exporter": "python",
   "pygments_lexer": "ipython3",
   "version": "3.12.7"
  }
 },
 "nbformat": 4,
 "nbformat_minor": 5
}

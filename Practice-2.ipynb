{
 "cells": [
  {
   "cell_type": "code",
   "execution_count": 31,
   "id": "16914317-faa3-491f-8675-d8923c2991f3",
   "metadata": {},
   "outputs": [
    {
     "name": "stdin",
     "output_type": "stream",
     "text": [
      "Enter the elements of array1 -  1,2,3,4\n",
      "Enter the elements of array2 -  1,2,3,4,5,6,7,8,9\n"
     ]
    },
    {
     "name": "stdout",
     "output_type": "stream",
     "text": [
      "Array 1 is a subset of array 2\n"
     ]
    }
   ],
   "source": [
    "#CHECK IF AN ARRAY IS A SUBSET OF ANOTHER ARRAY\n",
    "n = input(\"Enter the elements of array1 - \")\n",
    "n1 = input(\"Enter the elements of array2 - \")\n",
    "arr = n.split(\",\")\n",
    "arr1 = n1.split(\",\")\n",
    "\n",
    "def one_to_two():\n",
    "    flag = False\n",
    "    for i in arr:\n",
    "        flag = False\n",
    "        if(i in arr1):\n",
    "            flag = True\n",
    "    if(flag==True):\n",
    "            print(\"Array 1 is a subset of array 2\")\n",
    "    else:\n",
    "            print(\"No subsets\")\n",
    "\n",
    "def two_to_one():\n",
    "    flag = False\n",
    "    for i in arr1:\n",
    "        flag = False\n",
    "        if(i in arr):\n",
    "            flag = True\n",
    "    if(flag==True):\n",
    "            print(\"Array 2 is a subset of array 1\")\n",
    "    else:\n",
    "            print(\"No subsets\")\n",
    "\n",
    "\n",
    "if(len(arr)>len(arr1)):\n",
    "    two_to_one()\n",
    "\n",
    "elif(len(arr)<len(arr1)):\n",
    "    one_to_two()\n",
    "\n",
    "else:\n",
    "    if(arr==arr1):\n",
    "        print(\"Both are equal\")\n",
    "    else:\n",
    "        print(\"No subsets\")"
   ]
  },
  {
   "cell_type": "code",
   "execution_count": 43,
   "id": "401e2645-101b-45b5-9958-752fa53b8d7d",
   "metadata": {},
   "outputs": [],
   "source": [
    "def sum(arr):\n",
    "    s = 0\n",
    "    for i in arr:\n",
    "        s+=int(i)\n",
    "    return s\n",
    "    "
   ]
  },
  {
   "cell_type": "code",
   "execution_count": 29,
   "id": "e335b8d7-2980-48ad-87fb-f3f7b0285bf8",
   "metadata": {},
   "outputs": [
    {
     "name": "stdin",
     "output_type": "stream",
     "text": [
      "Enter the number to be searched from 1 to 10 -  3\n",
      "Enter the length of the array -  9\n"
     ]
    },
    {
     "name": "stdout",
     "output_type": "stream",
     "text": [
      "[9, 1, 5, 3, 8, 8, 1, 9, 2]\n",
      "Element present in array\n"
     ]
    }
   ],
   "source": [
    "#SEARCH FOR AN ELEMENT IN AN ARRAY\n",
    "from random import randint\n",
    "n = input(\"Enter the number to be searched from 1 to 10 - \")\n",
    "n1 = int(input(\"Enter the length of the array - \"))\n",
    "arr = []\n",
    "for i in range(n1):\n",
    "    arr.append(randint(1,11))\n",
    "print(arr)\n",
    "if(int(n) in arr):\n",
    "    print(\"Element present in array\")\n",
    "else: \n",
    "    print(\"Element not prensent in array\")"
   ]
  },
  {
   "cell_type": "code",
   "execution_count": 53,
   "id": "b3ef080b-e293-4922-b583-ddbbef1dd311",
   "metadata": {},
   "outputs": [
    {
     "name": "stdin",
     "output_type": "stream",
     "text": [
      "Enter the elements of array -  1,2,5,2,3,2,1,2\n"
     ]
    },
    {
     "name": "stdout",
     "output_type": "stream",
     "text": [
      "['1', '2', '5', '2', '3', '2', '1', '2']\n",
      "Array Equilibrium index at 3 whose value is 2\n"
     ]
    }
   ],
   "source": [
    "#EQUILIBRIUM INDEX\n",
    "arr = (input(\"Enter the elements of array - \")).split(\",\")\n",
    "print(arr)\n",
    "final = 0\n",
    "for index in range(len(arr)):\n",
    "    left_arr = arr[0:index]\n",
    "    right_arr = arr[index+1:]\n",
    "    l_sum = sum(left_arr)\n",
    "    r_sum = sum(right_arr)\n",
    "    if(l_sum==r_sum):\n",
    "        final = index\n",
    "        break\n",
    "if(final):\n",
    "    print(f\"Array Equilibrium index at {final} whose value is {arr[final]}\")\n",
    "else:\n",
    "    print(\"No equilibrium index\")\n",
    "    \n",
    "    \n",
    "    \n",
    "    "
   ]
  },
  {
   "cell_type": "code",
   "execution_count": null,
   "id": "d5e8d013-55df-4570-9d0f-79cb7968f9a2",
   "metadata": {},
   "outputs": [],
   "source": []
  }
 ],
 "metadata": {
  "kernelspec": {
   "display_name": "Python 3 (ipykernel)",
   "language": "python",
   "name": "python3"
  },
  "language_info": {
   "codemirror_mode": {
    "name": "ipython",
    "version": 3
   },
   "file_extension": ".py",
   "mimetype": "text/x-python",
   "name": "python",
   "nbconvert_exporter": "python",
   "pygments_lexer": "ipython3",
   "version": "3.12.7"
  }
 },
 "nbformat": 4,
 "nbformat_minor": 5
}
